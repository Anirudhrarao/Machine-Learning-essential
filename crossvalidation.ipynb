{
 "cells": [
  {
   "cell_type": "markdown",
   "id": "6a1a41ab-4bff-49c1-8f52-b89aad656a9d",
   "metadata": {
    "tags": []
   },
   "source": [
    "<h3 style='color:pink'>K-Fold Cross Validation Implementation</h3>"
   ]
  },
  {
   "cell_type": "code",
   "execution_count": 1,
   "id": "79aab1c4-588a-4e33-9a09-774991dc4cce",
   "metadata": {
    "tags": []
   },
   "outputs": [],
   "source": [
    "# importing dependencies\n",
    "import numpy as np\n",
    "import pandas as pd\n",
    "from sklearn.model_selection import train_test_split\n",
    "from sklearn.model_selection import cross_val_score\n",
    "from sklearn.metrics import accuracy_score\n",
    "import warnings\n",
    "warnings.simplefilter('ignore')"
   ]
  },
  {
   "cell_type": "code",
   "execution_count": 2,
   "id": "5771023b-15f9-4523-b8bd-e77edbf7f57c",
   "metadata": {
    "tags": []
   },
   "outputs": [],
   "source": [
    "# importing models \n",
    "from sklearn.linear_model import LogisticRegression\n",
    "from sklearn.svm import SVC\n",
    "from sklearn.neighbors import KNeighborsClassifier\n",
    "from sklearn.ensemble import RandomForestClassifier"
   ]
  },
  {
   "cell_type": "code",
   "execution_count": 3,
   "id": "aff2901b-ec47-4383-b187-64b558a8ae90",
   "metadata": {
    "tags": []
   },
   "outputs": [],
   "source": [
    "# data collection and data preprocessing\n",
    "df = pd.read_csv('heart.csv')"
   ]
  },
  {
   "cell_type": "code",
   "execution_count": 4,
   "id": "7717047d-9421-41c5-b702-b8bef6049b71",
   "metadata": {
    "tags": []
   },
   "outputs": [
    {
     "data": {
      "text/html": [
       "<div>\n",
       "<style scoped>\n",
       "    .dataframe tbody tr th:only-of-type {\n",
       "        vertical-align: middle;\n",
       "    }\n",
       "\n",
       "    .dataframe tbody tr th {\n",
       "        vertical-align: top;\n",
       "    }\n",
       "\n",
       "    .dataframe thead th {\n",
       "        text-align: right;\n",
       "    }\n",
       "</style>\n",
       "<table border=\"1\" class=\"dataframe\">\n",
       "  <thead>\n",
       "    <tr style=\"text-align: right;\">\n",
       "      <th></th>\n",
       "      <th>age</th>\n",
       "      <th>sex</th>\n",
       "      <th>cp</th>\n",
       "      <th>trestbps</th>\n",
       "      <th>chol</th>\n",
       "      <th>fbs</th>\n",
       "      <th>restecg</th>\n",
       "      <th>thalach</th>\n",
       "      <th>exang</th>\n",
       "      <th>oldpeak</th>\n",
       "      <th>slope</th>\n",
       "      <th>ca</th>\n",
       "      <th>thal</th>\n",
       "      <th>target</th>\n",
       "    </tr>\n",
       "  </thead>\n",
       "  <tbody>\n",
       "    <tr>\n",
       "      <th>0</th>\n",
       "      <td>63</td>\n",
       "      <td>1</td>\n",
       "      <td>3</td>\n",
       "      <td>145</td>\n",
       "      <td>233</td>\n",
       "      <td>1</td>\n",
       "      <td>0</td>\n",
       "      <td>150</td>\n",
       "      <td>0</td>\n",
       "      <td>2.3</td>\n",
       "      <td>0</td>\n",
       "      <td>0</td>\n",
       "      <td>1</td>\n",
       "      <td>1</td>\n",
       "    </tr>\n",
       "    <tr>\n",
       "      <th>1</th>\n",
       "      <td>37</td>\n",
       "      <td>1</td>\n",
       "      <td>2</td>\n",
       "      <td>130</td>\n",
       "      <td>250</td>\n",
       "      <td>0</td>\n",
       "      <td>1</td>\n",
       "      <td>187</td>\n",
       "      <td>0</td>\n",
       "      <td>3.5</td>\n",
       "      <td>0</td>\n",
       "      <td>0</td>\n",
       "      <td>2</td>\n",
       "      <td>1</td>\n",
       "    </tr>\n",
       "    <tr>\n",
       "      <th>2</th>\n",
       "      <td>41</td>\n",
       "      <td>0</td>\n",
       "      <td>1</td>\n",
       "      <td>130</td>\n",
       "      <td>204</td>\n",
       "      <td>0</td>\n",
       "      <td>0</td>\n",
       "      <td>172</td>\n",
       "      <td>0</td>\n",
       "      <td>1.4</td>\n",
       "      <td>2</td>\n",
       "      <td>0</td>\n",
       "      <td>2</td>\n",
       "      <td>1</td>\n",
       "    </tr>\n",
       "    <tr>\n",
       "      <th>3</th>\n",
       "      <td>56</td>\n",
       "      <td>1</td>\n",
       "      <td>1</td>\n",
       "      <td>120</td>\n",
       "      <td>236</td>\n",
       "      <td>0</td>\n",
       "      <td>1</td>\n",
       "      <td>178</td>\n",
       "      <td>0</td>\n",
       "      <td>0.8</td>\n",
       "      <td>2</td>\n",
       "      <td>0</td>\n",
       "      <td>2</td>\n",
       "      <td>1</td>\n",
       "    </tr>\n",
       "    <tr>\n",
       "      <th>4</th>\n",
       "      <td>57</td>\n",
       "      <td>0</td>\n",
       "      <td>0</td>\n",
       "      <td>120</td>\n",
       "      <td>354</td>\n",
       "      <td>0</td>\n",
       "      <td>1</td>\n",
       "      <td>163</td>\n",
       "      <td>1</td>\n",
       "      <td>0.6</td>\n",
       "      <td>2</td>\n",
       "      <td>0</td>\n",
       "      <td>2</td>\n",
       "      <td>1</td>\n",
       "    </tr>\n",
       "  </tbody>\n",
       "</table>\n",
       "</div>"
      ],
      "text/plain": [
       "   age  sex  cp  trestbps  chol  fbs  restecg  thalach  exang  oldpeak  slope  \\\n",
       "0   63    1   3       145   233    1        0      150      0      2.3      0   \n",
       "1   37    1   2       130   250    0        1      187      0      3.5      0   \n",
       "2   41    0   1       130   204    0        0      172      0      1.4      2   \n",
       "3   56    1   1       120   236    0        1      178      0      0.8      2   \n",
       "4   57    0   0       120   354    0        1      163      1      0.6      2   \n",
       "\n",
       "   ca  thal  target  \n",
       "0   0     1       1  \n",
       "1   0     2       1  \n",
       "2   0     2       1  \n",
       "3   0     2       1  \n",
       "4   0     2       1  "
      ]
     },
     "execution_count": 4,
     "metadata": {},
     "output_type": "execute_result"
    }
   ],
   "source": [
    "df.head()"
   ]
  },
  {
   "cell_type": "code",
   "execution_count": 5,
   "id": "453a67d9-307d-4a5d-ba4b-dcbca6373398",
   "metadata": {
    "tags": []
   },
   "outputs": [
    {
     "data": {
      "text/plain": [
       "(303, 14)"
      ]
     },
     "execution_count": 5,
     "metadata": {},
     "output_type": "execute_result"
    }
   ],
   "source": [
    "df.shape"
   ]
  },
  {
   "cell_type": "code",
   "execution_count": 6,
   "id": "e01bd4c4-0b0f-40fa-b624-05cc051e3b5d",
   "metadata": {
    "tags": []
   },
   "outputs": [
    {
     "data": {
      "text/plain": [
       "age         0\n",
       "sex         0\n",
       "cp          0\n",
       "trestbps    0\n",
       "chol        0\n",
       "fbs         0\n",
       "restecg     0\n",
       "thalach     0\n",
       "exang       0\n",
       "oldpeak     0\n",
       "slope       0\n",
       "ca          0\n",
       "thal        0\n",
       "target      0\n",
       "dtype: int64"
      ]
     },
     "execution_count": 6,
     "metadata": {},
     "output_type": "execute_result"
    }
   ],
   "source": [
    "df.isnull().sum()"
   ]
  },
  {
   "cell_type": "code",
   "execution_count": 7,
   "id": "39f3ea9f-1e4d-47b4-8860-9d2bf30fb36b",
   "metadata": {
    "tags": []
   },
   "outputs": [
    {
     "data": {
      "text/plain": [
       "1"
      ]
     },
     "execution_count": 7,
     "metadata": {},
     "output_type": "execute_result"
    }
   ],
   "source": [
    "df.duplicated().sum()"
   ]
  },
  {
   "cell_type": "code",
   "execution_count": 8,
   "id": "931c76de-5114-4de5-91ee-88d53ffe0e5a",
   "metadata": {
    "tags": []
   },
   "outputs": [
    {
     "data": {
      "text/plain": [
       "1    165\n",
       "0    138\n",
       "Name: target, dtype: int64"
      ]
     },
     "execution_count": 8,
     "metadata": {},
     "output_type": "execute_result"
    }
   ],
   "source": [
    "df['target'].value_counts()"
   ]
  },
  {
   "cell_type": "code",
   "execution_count": 9,
   "id": "521cc740-8900-4efe-b0c0-8375f0df5572",
   "metadata": {
    "tags": []
   },
   "outputs": [],
   "source": [
    "# segregating ther features into independent and dependent\n",
    "X = df.drop(columns='target',axis=1)\n",
    "y = df['target']"
   ]
  },
  {
   "cell_type": "code",
   "execution_count": 10,
   "id": "ef5829ff-04f9-4fb1-82ca-86f9030e4e20",
   "metadata": {
    "tags": []
   },
   "outputs": [],
   "source": [
    "# train test and split\n",
    "X_train, X_test, y_train, y_test = train_test_split(X,y,test_size=0.2,stratify=y,random_state=3)"
   ]
  },
  {
   "cell_type": "code",
   "execution_count": 11,
   "id": "63ef8170-858b-48ae-9b65-9b351100cbe9",
   "metadata": {
    "tags": []
   },
   "outputs": [],
   "source": [
    "# model training\n",
    "models = {\n",
    "    'logreg':LogisticRegression(),\n",
    "    'svc':SVC(kernel='linear'),\n",
    "    'knearest':KNeighborsClassifier(),\n",
    "    'randforest':RandomForestClassifier()\n",
    "}"
   ]
  },
  {
   "cell_type": "code",
   "execution_count": 12,
   "id": "3b5e2b02-38f7-4f70-afd1-68e4c62eaed0",
   "metadata": {
    "tags": []
   },
   "outputs": [],
   "source": [
    "algorithm = [LogisticRegression(max_iter=100),SVC(kernel='linear'),KNeighborsClassifier(),RandomForestClassifier()]"
   ]
  },
  {
   "cell_type": "code",
   "execution_count": 13,
   "id": "10e7bd9b-e558-414d-bcc0-a7b02911fd84",
   "metadata": {
    "tags": []
   },
   "outputs": [],
   "source": [
    "def compare_models_performance():\n",
    "    for ml in algorithm:\n",
    "        ml.fit(X_train,y_train)\n",
    "        y_pred = ml.predict(X_test)\n",
    "        score = accuracy_score(y_test,y_pred)\n",
    "        print(f'Accuracy Score of model {ml} =',score*100)"
   ]
  },
  {
   "cell_type": "code",
   "execution_count": 14,
   "id": "a26610c5-bce3-4c25-8c9b-6a8de72d9126",
   "metadata": {
    "tags": []
   },
   "outputs": [
    {
     "name": "stdout",
     "output_type": "stream",
     "text": [
      "Accuracy Score of model LogisticRegression() = 80.32786885245902\n",
      "Accuracy Score of model SVC(kernel='linear') = 77.04918032786885\n",
      "Accuracy Score of model KNeighborsClassifier() = 65.57377049180327\n",
      "Accuracy Score of model RandomForestClassifier() = 78.68852459016394\n"
     ]
    }
   ],
   "source": [
    "compare_models_performance()"
   ]
  },
  {
   "cell_type": "markdown",
   "id": "f8b91d29-ab1c-43f1-8a98-174cc842ca54",
   "metadata": {},
   "source": [
    "<h3 style='color:lightblue'>Performing Cross Validation Score</h3>"
   ]
  },
  {
   "cell_type": "markdown",
   "id": "9dab675e-87da-4ec4-95c3-84860e39ed8b",
   "metadata": {
    "tags": []
   },
   "source": [
    "#### Logistic Regression Model"
   ]
  },
  {
   "cell_type": "code",
   "execution_count": 22,
   "id": "5732f898-d0f5-43e7-81a6-f60c3cfb720b",
   "metadata": {
    "tags": []
   },
   "outputs": [
    {
     "data": {
      "text/plain": [
       "array([0.80327869, 0.86885246, 0.85245902, 0.86666667, 0.75      ])"
      ]
     },
     "execution_count": 22,
     "metadata": {},
     "output_type": "execute_result"
    }
   ],
   "source": [
    "cv_score_lr = cross_val_score(LogisticRegression(max_iter=1000),X,y,cv=5)\n",
    "cv_score_lr"
   ]
  },
  {
   "cell_type": "code",
   "execution_count": 24,
   "id": "3feab1bb-7ddc-4d2b-841c-b4541d1ac9bf",
   "metadata": {
    "tags": []
   },
   "outputs": [
    {
     "data": {
      "text/plain": [
       "0.8282513661202187"
      ]
     },
     "execution_count": 24,
     "metadata": {},
     "output_type": "execute_result"
    }
   ],
   "source": [
    "cv_score_lr.mean()"
   ]
  },
  {
   "cell_type": "code",
   "execution_count": 25,
   "id": "5070fc03-61d7-4fd0-b5a5-b6f51a543401",
   "metadata": {
    "tags": []
   },
   "outputs": [],
   "source": [
    "sum = 0 \n",
    "for i in cv_score_lr:\n",
    "    sum += i\n",
    "mean_accuracy = sum/len(cv_score_lr)"
   ]
  },
  {
   "cell_type": "code",
   "execution_count": 32,
   "id": "e6d06ecf-cdc1-47a9-9749-e9f415dcdec3",
   "metadata": {
    "tags": []
   },
   "outputs": [
    {
     "data": {
      "text/plain": [
       "82.83"
      ]
     },
     "execution_count": 32,
     "metadata": {},
     "output_type": "execute_result"
    }
   ],
   "source": [
    "round(mean_accuracy * 100,2)"
   ]
  },
  {
   "cell_type": "code",
   "execution_count": 52,
   "id": "42cbc755-6c64-4af8-a48b-deb3ce6b9ce4",
   "metadata": {
    "tags": []
   },
   "outputs": [],
   "source": [
    "algorithm = [LogisticRegression(max_iter=100),SVC(kernel='linear'),KNeighborsClassifier(),RandomForestClassifier()]\n",
    "score_list = []\n",
    "def model_train_cv():\n",
    "    for model in algorithm:\n",
    "        cv_score = cross_val_score(model,X,y,cv=5)\n",
    "        mean_accuracy = cv_score.mean()*100\n",
    "        mean_accuracy = round(mean_accuracy,2)\n",
    "        score_list.append(mean_accuracy)\n",
    "        print(f'Cross validation accuracy {model}: {mean_accuracy}')\n",
    "    max = score_list[0]\n",
    "    for score in score_list:\n",
    "        if score > max:\n",
    "            max = score\n",
    "    print(f'Best Score is {max}')"
   ]
  },
  {
   "cell_type": "code",
   "execution_count": 53,
   "id": "d6594ed7-4c8a-4d71-830c-260c6f8b468b",
   "metadata": {
    "tags": []
   },
   "outputs": [
    {
     "name": "stdout",
     "output_type": "stream",
     "text": [
      "Cross validation accuracy LogisticRegression(): 83.15\n",
      "Cross validation accuracy SVC(kernel='linear'): 82.83\n",
      "Cross validation accuracy KNeighborsClassifier(): 64.39\n",
      "Cross validation accuracy RandomForestClassifier(): 81.49\n",
      "Best Score is 83.15\n"
     ]
    }
   ],
   "source": [
    "model_train_cv()"
   ]
  }
 ],
 "metadata": {
  "kernelspec": {
   "display_name": "Python 3 (ipykernel)",
   "language": "python",
   "name": "python3"
  },
  "language_info": {
   "codemirror_mode": {
    "name": "ipython",
    "version": 3
   },
   "file_extension": ".py",
   "mimetype": "text/x-python",
   "name": "python",
   "nbconvert_exporter": "python",
   "pygments_lexer": "ipython3",
   "version": "3.11.3"
  }
 },
 "nbformat": 4,
 "nbformat_minor": 5
}
